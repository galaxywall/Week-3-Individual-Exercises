{
 "cells": [
  {
   "cell_type": "markdown",
   "metadata": {},
   "source": [
    "Lecture 1 Exerciese: 1-10\n"
   ]
  },
  {
   "cell_type": "code",
   "execution_count": 1,
   "metadata": {},
   "outputs": [],
   "source": [
    "#1, 2\n",
    "my_age=24 #Store my age in the variable my_age\n",
    "my_name=\"Tianheng Huang\" #Store my name in the variable my_name\n",
    "pet=1 #Store the number of pets I've ever owned in the variable pet"
   ]
  },
  {
   "cell_type": "code",
   "execution_count": 2,
   "metadata": {},
   "outputs": [
    {
     "name": "stdout",
     "output_type": "stream",
     "text": [
      "24\n",
      "Tianheng Huang\n",
      "1\n"
     ]
    }
   ],
   "source": [
    "#3\n",
    "print(my_age)\n",
    "print(my_name)\n",
    "print(pet)"
   ]
  },
  {
   "cell_type": "code",
   "execution_count": 3,
   "metadata": {},
   "outputs": [
    {
     "name": "stdout",
     "output_type": "stream",
     "text": [
      "I was born 24 years ago.\n",
      "Tianheng Huang is my name.\n",
      "I have owned 1 pet in my life.\n"
     ]
    }
   ],
   "source": [
    "#4\n",
    "print(\"I was born \"+str(my_age)+\" years ago.\")\n",
    "print(str(my_name)+\" is my name.\")\n",
    "print(\"I have owned \"+str(pet)+\" pet in my life.\")"
   ]
  },
  {
   "cell_type": "code",
   "execution_count": 4,
   "metadata": {},
   "outputs": [
    {
     "name": "stdout",
     "output_type": "stream",
     "text": [
      "Congratulations, now you are 25.\n"
     ]
    }
   ],
   "source": [
    "#5\n",
    "my_age=my_age+1\n",
    "print(\"Congratulations, now you are \"+str(my_age)+\".\")"
   ]
  },
  {
   "cell_type": "code",
   "execution_count": 5,
   "metadata": {},
   "outputs": [
    {
     "name": "stdout",
     "output_type": "stream",
     "text": [
      "You can drink! You have been able to drink for 4 years.\n"
     ]
    }
   ],
   "source": [
    "#6\n",
    "if my_age>=21:\n",
    "  print(\"You can drink! You have been able to drink for \"+str(my_age-21)+\" years.\")\n",
    "else:\n",
    "  print(\"You can't drink. You need to wait \"+str(21-my_age)+\" years.\")"
   ]
  },
  {
   "cell_type": "code",
   "execution_count": 6,
   "metadata": {},
   "outputs": [
    {
     "name": "stdout",
     "output_type": "stream",
     "text": [
      "A 1 year old cannot drink and must wait 20 more years.\n",
      "A 2 year old cannot drink and must wait 19 more years.\n",
      "A 3 year old cannot drink and must wait 18 more years.\n",
      "A 4 year old cannot drink and must wait 17 more years.\n",
      "A 5 year old cannot drink and must wait 16 more years.\n",
      "A 6 year old cannot drink and must wait 15 more years.\n",
      "A 7 year old cannot drink and must wait 14 more years.\n",
      "A 8 year old cannot drink and must wait 13 more years.\n",
      "A 9 year old cannot drink and must wait 12 more years.\n",
      "A 10 year old cannot drink and must wait 11 more years.\n",
      "A 11 year old cannot drink and must wait 10 more years.\n",
      "A 12 year old cannot drink and must wait 9 more years.\n",
      "A 13 year old cannot drink and must wait 8 more years.\n",
      "A 14 year old cannot drink and must wait 7 more years.\n",
      "A 15 year old cannot drink and must wait 6 more years.\n",
      "A 16 year old cannot drink and must wait 5 more years.\n",
      "A 17 year old cannot drink and must wait 4 more years.\n",
      "A 18 year old cannot drink and must wait 3 more years.\n",
      "A 19 year old cannot drink and must wait 2 more years.\n",
      "A 20 year old cannot drink and must wait 1 more years.\n",
      "A 21 year old has been able to drink for 0 years.\n",
      "A 22 year old has been able to drink for 1 years.\n",
      "A 23 year old has been able to drink for 2 years.\n",
      "A 24 year old has been able to drink for 3 years.\n",
      "A 25 year old has been able to drink for 4 years.\n",
      "A 26 year old has been able to drink for 5 years.\n",
      "A 27 year old has been able to drink for 6 years.\n",
      "A 28 year old has been able to drink for 7 years.\n",
      "A 29 year old has been able to drink for 8 years.\n",
      "A 30 year old has been able to drink for 9 years.\n"
     ]
    }
   ],
   "source": [
    "#7\n",
    "for i in range(30):\n",
    "  if i+1<21:\n",
    "    print(\"A \"+str(i+1)+\" year old cannot drink and must wait \"+str(21-(i+1))+\" more years.\")\n",
    "  else:\n",
    "    print(\"A \"+str(i+1)+\" year old has been able to drink for \"+str((i+1)-21)+\" years.\")"
   ]
  },
  {
   "cell_type": "code",
   "execution_count": 7,
   "metadata": {},
   "outputs": [
    {
     "name": "stdout",
     "output_type": "stream",
     "text": [
      "A 1 year old cannot drink and must wait 20 more years.\n",
      "A 2 year old cannot drink and must wait 19 more years.\n",
      "A 3 year old cannot drink and must wait 18 more years.\n",
      "A 4 year old cannot drink and must wait 17 more years.\n",
      "A 5 year old cannot drink and must wait 16 more years.\n",
      "A 6 year old cannot drink and must wait 15 more years.\n",
      "A 7 year old cannot drink and must wait 14 more years.\n",
      "A 8 year old cannot drink and must wait 13 more years.\n",
      "A 9 year old cannot drink and must wait 12 more years.\n",
      "A 10 year old cannot drink and must wait 11 more years.\n"
     ]
    }
   ],
   "source": [
    "#8\n",
    "for i in range(30):\n",
    "  if i+1<21:\n",
    "    print(\"A \"+str(i+1)+\" year old cannot drink and must wait \"+str(21-(i+1))+\" more years.\")\n",
    "  else:\n",
    "    print(\"A \"+str(i+1)+\" year old has been able to drink for \"+str((i+1)-21)+\" years.\")\n",
    "  if i+1==10:\n",
    "    break"
   ]
  },
  {
   "cell_type": "code",
   "execution_count": 8,
   "metadata": {},
   "outputs": [
    {
     "name": "stdout",
     "output_type": "stream",
     "text": [
      "A 1 year old cannot drink and must wait 20 more years.\n",
      "A 2 year old cannot drink and must wait 19 more years.\n",
      "A 3 year old cannot drink and must wait 18 more years.\n",
      "A 4 year old cannot drink and must wait 17 more years.\n",
      "A 5 year old cannot drink and must wait 16 more years.\n",
      "A 6 year old cannot drink and must wait 15 more years.\n",
      "A 7 year old cannot drink and must wait 14 more years.\n",
      "A 8 year old cannot drink and must wait 13 more years.\n",
      "A 9 year old cannot drink and must wait 12 more years.\n",
      "A 10 year old cannot drink and must wait 11 more years.\n",
      "A 11 year old cannot drink and must wait 10 more years.\n",
      "A 12 year old cannot drink and must wait 9 more years.\n",
      "A 13 year old cannot drink and must wait 8 more years.\n",
      "A 14 year old cannot drink and must wait 7 more years.\n",
      "A 15 year old cannot drink and must wait 6 more years.\n",
      "A 16 year old cannot drink and must wait 5 more years.\n",
      "A 17 year old cannot drink and must wait 4 more years.\n",
      "A 18 year old cannot drink and must wait 3 more years.\n",
      "A 19 year old cannot drink and must wait 2 more years.\n",
      "A 20 year old cannot drink and must wait 1 more years.\n",
      "A 21 year old has been able to drink for 0 years.\n",
      "A 22 year old has been able to drink for 1 years.\n",
      "A 23 year old has been able to drink for 2 years.\n",
      "A 24 year old has been able to drink for 3 years.\n",
      "A 25 year old has been able to drink for 4 years.\n",
      "A 26 year old has been able to drink for 5 years.\n",
      "A 27 year old has been able to drink for 6 years.\n",
      "A 28 year old has been able to drink for 7 years.\n",
      "A 29 year old has been able to drink for 8 years.\n",
      "A 30 year old has been able to drink for 9 years.\n"
     ]
    }
   ],
   "source": [
    "#9\n",
    "i=0\n",
    "while (i<30):\n",
    "  i=i+1\n",
    "  if i<21:\n",
    "    print(\"A \"+str(i)+\" year old cannot drink and must wait \"+str(21-i)+\" more years.\")\n",
    "  else:\n",
    "    print(\"A \"+str(i)+\" year old has been able to drink for \"+str(i-21)+\" years.\")"
   ]
  },
  {
   "cell_type": "code",
   "execution_count": 9,
   "metadata": {},
   "outputs": [
    {
     "name": "stdout",
     "output_type": "stream",
     "text": [
      "How old are you? > 0\n",
      "You can't drink. You need to wait 21 years.\n"
     ]
    }
   ],
   "source": [
    "#10\n",
    "my_age=int(input(\"How old are you? > \"))\n",
    "if my_age>=21:\n",
    "  print(\"You can drink! You have been able to drink for \"+str(my_age-21)+\" years.\")\n",
    "else:\n",
    "  print(\"You can't drink. You need to wait \"+str(21-my_age)+\" years.\")"
   ]
  },
  {
   "cell_type": "markdown",
   "metadata": {},
   "source": [
    "Lecture 2 Exercises: 1-15"
   ]
  },
  {
   "cell_type": "code",
   "execution_count": 10,
   "metadata": {},
   "outputs": [],
   "source": [
    "#1\n",
    "import numpy as np\n",
    "ages=np.array([52,57])\n",
    "names=np.array([\"Ruby\",\"Hill\"])\n",
    "numbers=np.array(range(100))+1\n"
   ]
  },
  {
   "cell_type": "code",
   "execution_count": 11,
   "metadata": {},
   "outputs": [
    {
     "name": "stdout",
     "output_type": "stream",
     "text": [
      "[52 57]\n",
      "['Ruby' 'Hill']\n",
      "[  1   2   3   4   5   6   7   8   9  10  11  12  13  14  15  16  17  18\n",
      "  19  20  21  22  23  24  25  26  27  28  29  30  31  32  33  34  35  36\n",
      "  37  38  39  40  41  42  43  44  45  46  47  48  49  50  51  52  53  54\n",
      "  55  56  57  58  59  60  61  62  63  64  65  66  67  68  69  70  71  72\n",
      "  73  74  75  76  77  78  79  80  81  82  83  84  85  86  87  88  89  90\n",
      "  91  92  93  94  95  96  97  98  99 100]\n"
     ]
    }
   ],
   "source": [
    "#2\n",
    "print(ages)\n",
    "print(names)\n",
    "print(numbers)\n",
    "\n"
   ]
  },
  {
   "cell_type": "code",
   "execution_count": 12,
   "metadata": {},
   "outputs": [
    {
     "name": "stdout",
     "output_type": "stream",
     "text": [
      "52\n",
      "Ruby\n"
     ]
    }
   ],
   "source": [
    "#3\n",
    "print(ages[0])\n",
    "print(names[0])\n",
    "\n"
   ]
  },
  {
   "cell_type": "code",
   "execution_count": 13,
   "metadata": {},
   "outputs": [
    {
     "name": "stdout",
     "output_type": "stream",
     "text": [
      "2\n"
     ]
    }
   ],
   "source": [
    "#4\n",
    "length=len(names)\n",
    "print(length)"
   ]
  },
  {
   "cell_type": "code",
   "execution_count": 14,
   "metadata": {},
   "outputs": [
    {
     "name": "stdout",
     "output_type": "stream",
     "text": [
      "Hill\n"
     ]
    }
   ],
   "source": [
    "#5\n",
    "print(names[length-1])\n",
    "\n"
   ]
  },
  {
   "cell_type": "code",
   "execution_count": 15,
   "metadata": {},
   "outputs": [
    {
     "name": "stdout",
     "output_type": "stream",
     "text": [
      "['Hill']\n"
     ]
    }
   ],
   "source": [
    "#6\n",
    "print(np.delete(names,0))\n"
   ]
  },
  {
   "cell_type": "code",
   "execution_count": 16,
   "metadata": {},
   "outputs": [
    {
     "name": "stdout",
     "output_type": "stream",
     "text": [
      "['Hill' 'Jack' 'Kevin']\n"
     ]
    }
   ],
   "source": [
    "#6a\n",
    "names=np.array([\"Ruby\",\"Hill\",\"Jack\",\"Kevin\"])\n",
    "ages=np.array([52,57,24,24])\n",
    "print(names[1:4])\n",
    "\n"
   ]
  },
  {
   "cell_type": "code",
   "execution_count": 17,
   "metadata": {},
   "outputs": [
    {
     "name": "stdout",
     "output_type": "stream",
     "text": [
      "['Bob' 'Bob' 'Jack' 'Bob']\n"
     ]
    }
   ],
   "source": [
    "#6b\n",
    "names[np.array([0,1,3])]=\"Bob\"\n",
    "print(names)\n"
   ]
  },
  {
   "cell_type": "code",
   "execution_count": 18,
   "metadata": {},
   "outputs": [
    {
     "name": "stdout",
     "output_type": "stream",
     "text": [
      "['Bob' 'Jack' 'Bob']\n"
     ]
    }
   ],
   "source": [
    "#7\n",
    "print(np.delete(names,1))\n",
    "\n"
   ]
  },
  {
   "cell_type": "code",
   "execution_count": 19,
   "metadata": {},
   "outputs": [
    {
     "name": "stdout",
     "output_type": "stream",
     "text": [
      "['Bob' 'Bob' 'Jack' 'Bob' 'Baby']\n",
      "[52 57 24 24  0]\n"
     ]
    }
   ],
   "source": [
    "#8\n",
    "names=np.append(names,\"Baby\")\n",
    "ages=np.append(ages,0)\n",
    "print(names)\n",
    "print(ages)\n",
    "\n"
   ]
  },
  {
   "cell_type": "code",
   "execution_count": 20,
   "metadata": {},
   "outputs": [
    {
     "name": "stdout",
     "output_type": "stream",
     "text": [
      "31.4\n",
      "24\n"
     ]
    }
   ],
   "source": [
    "#9\n",
    "from statistics import median\n",
    "\n",
    "print(sum(ages)/len(ages))\n",
    "print(median(ages))\n"
   ]
  },
  {
   "cell_type": "code",
   "execution_count": 21,
   "metadata": {},
   "outputs": [
    {
     "name": "stdout",
     "output_type": "stream",
     "text": [
      "['Bob' 'Bob' 'Jack' 'Bob' 'Baby' 'Bob' 'Bob' 'Jack' 'Bob' 'Baby']\n"
     ]
    }
   ],
   "source": [
    "#10\n",
    "double_family=np.concatenate([names,names])\n",
    "print(double_family)\n",
    "\n"
   ]
  },
  {
   "cell_type": "code",
   "execution_count": 22,
   "metadata": {},
   "outputs": [
    {
     "name": "stdout",
     "output_type": "stream",
     "text": [
      "[False False False False  True]\n"
     ]
    }
   ],
   "source": [
    "#11\n",
    "print(ages==0) #The 5th member is aged 0\n",
    "\n"
   ]
  },
  {
   "cell_type": "code",
   "execution_count": 23,
   "metadata": {},
   "outputs": [
    {
     "data": {
      "text/plain": [
       "True"
      ]
     },
     "execution_count": 23,
     "metadata": {},
     "output_type": "execute_result"
    }
   ],
   "source": [
    "#12\n",
    "any(ages==0) #Yes, there is at least one member aged 0\n",
    "\n"
   ]
  },
  {
   "cell_type": "code",
   "execution_count": 24,
   "metadata": {},
   "outputs": [
    {
     "data": {
      "text/plain": [
       "1"
      ]
     },
     "execution_count": 24,
     "metadata": {},
     "output_type": "execute_result"
    }
   ],
   "source": [
    "#13\n",
    "sum(ages==0) #There is one member aged 0\n",
    "\n"
   ]
  },
  {
   "cell_type": "code",
   "execution_count": 25,
   "metadata": {},
   "outputs": [
    {
     "name": "stdout",
     "output_type": "stream",
     "text": [
      "[10 20 30 40 50]\n"
     ]
    }
   ],
   "source": [
    "#14\n",
    "n=len(ages)\n",
    "new_ages=(np.array(range(n))+1)*10\n",
    "print(new_ages)"
   ]
  },
  {
   "cell_type": "code",
   "execution_count": 26,
   "metadata": {},
   "outputs": [
    {
     "data": {
      "text/plain": [
       "array([False, False, False, False, False])"
      ]
     },
     "execution_count": 26,
     "metadata": {},
     "output_type": "execute_result"
    }
   ],
   "source": [
    "#15\n",
    "ages==new_ages"
   ]
  },
  {
   "cell_type": "code",
   "execution_count": null,
   "metadata": {},
   "outputs": [],
   "source": []
  }
 ],
 "metadata": {
  "kernelspec": {
   "display_name": "Python 3",
   "language": "python",
   "name": "python3"
  },
  "language_info": {
   "codemirror_mode": {
    "name": "ipython",
    "version": 3
   },
   "file_extension": ".py",
   "mimetype": "text/x-python",
   "name": "python",
   "nbconvert_exporter": "python",
   "pygments_lexer": "ipython3",
   "version": "3.8.3"
  }
 },
 "nbformat": 4,
 "nbformat_minor": 4
}
